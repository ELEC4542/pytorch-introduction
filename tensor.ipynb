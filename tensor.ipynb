{
 "cells": [
  {
   "cell_type": "markdown",
   "metadata": {},
   "source": [
    "# Tensor\n",
    "\n",
    "In this notebook, we introduce the concept of PyTorch's `Tensor`.\n",
    "\n",
    "We will also discuss the basic operations starting from creating a tensor to calculate gradients of tensor with AutoGrad Engine."
   ]
  },
  {
   "cell_type": "code",
   "execution_count": 1,
   "metadata": {},
   "outputs": [
    {
     "name": "stdout",
     "output_type": "stream",
     "text": [
      "<class 'torch.Tensor'>\n",
      "tensor([[0., 0., 0., 0.],\n",
      "        [0., 0., 0., 0.],\n",
      "        [0., 0., 0., 0.]])\n"
     ]
    }
   ],
   "source": [
    "import torch\n",
    "\n",
    "x = torch.empty(3, 4)\n",
    "print(type(x))\n",
    "print(x)"
   ]
  },
  {
   "cell_type": "markdown",
   "metadata": {},
   "source": [
    "The term `Tensor` has different meanings in different contexts.\n",
    "\n",
    "In mathematics, a tensor is an algebraic object that describes a multilinear relationship between sets of algebraic objects related to a vector space.\n",
    "\n",
    "In physics, a tensor is a quantity that transforms according to certain rules under a change of coordinate system.\n",
    "\n",
    "Tensors are multi-dimensional arrays with a uniform type (called a `dtype`). You can see them as generalizations of vectors and matrices to higher dimensions.\n",
    "\n",
    "- Scalar: Tensor of rank 0, a single number.\n",
    "- Vector: Tensor of rank 1, an array of numbers.\n",
    "- Matrix: Tensor of rank 2, an array of vectors.\n",
    "- Triad ..."
   ]
  },
  {
   "cell_type": "markdown",
   "metadata": {},
   "source": [
    "## Create a Tensor\n",
    "\n",
    "PyTorch has provide many factory functions to create a tensor:\n",
    "\n",
    "See more at: https://pytorch.org/docs/stable/torch.html#creation-ops"
   ]
  },
  {
   "cell_type": "code",
   "execution_count": 2,
   "metadata": {},
   "outputs": [
    {
     "name": "stdout",
     "output_type": "stream",
     "text": [
      "tensor([[0., 0., 0., 0.],\n",
      "        [0., 0., 0., 0.],\n",
      "        [0., 0., 0., 0.]])\n",
      "tensor([[1., 1., 1., 1.],\n",
      "        [1., 1., 1., 1.],\n",
      "        [1., 1., 1., 1.]])\n",
      "tensor([[0.6908, 0.3720, 0.0406, 0.6789],\n",
      "        [0.3997, 0.6253, 0.9242, 0.2651],\n",
      "        [0.3892, 0.0518, 0.0906, 0.9304]])\n"
     ]
    }
   ],
   "source": [
    "zeros = torch.zeros(3, 4)\n",
    "print(zeros)\n",
    "\n",
    "ones = torch.ones(3, 4)\n",
    "print(ones)\n",
    "\n",
    "torch.manual_seed(1016)\n",
    "random = torch.rand(3, 4)\n",
    "print(random)"
   ]
  },
  {
   "cell_type": "code",
   "execution_count": 3,
   "metadata": {},
   "outputs": [
    {
     "name": "stdout",
     "output_type": "stream",
     "text": [
      "torch.Size([3, 4])\n",
      "tensor([[0., 0., 0., 0.],\n",
      "        [0., 0., 0., 0.],\n",
      "        [0., 0., 0., 0.]], device='mps:0', dtype=torch.float16)\n",
      "torch.Size([3, 4])\n",
      "tensor([[ 0.6665,  0.7134,  0.6162, -0.5879],\n",
      "        [-0.5425, -1.5439,  0.0021, -0.8130],\n",
      "        [ 0.7578,  2.0605, -0.2642, -1.1396]], device='mps:0',\n",
      "       dtype=torch.float16)\n"
     ]
    }
   ],
   "source": [
    "x = torch.empty(3, 4, device=\"mps\", dtype=torch.half)\n",
    "print(x.shape)\n",
    "print(x)\n",
    "\n",
    "rand_like_x = torch.randn_like(x)\n",
    "print(rand_like_x.shape)\n",
    "print(rand_like_x)"
   ]
  },
  {
   "cell_type": "markdown",
   "metadata": {},
   "source": [
    "## Important Properties of a Tensor\n",
    "\n",
    "Basic:\n",
    "\n",
    "- `dtype`: The data type of the tensor.\n",
    "- `ndim`: The number of dimensions of the tensor.\n",
    "- `shape`: The size of each dimension of the tensor.\n",
    "- `device`: The device where the tensor is stored (CPU, CUDA or XLA).\n",
    "- `layout`: The memory layout of the tensor (dense or sparse COO).\n",
    "\n",
    "Gradient:\n",
    "\n",
    "- `requires_grad`: Whether the tensor requires gradient.\n",
    "- `grad`: The gradient of the tensor.\n",
    "- `grad_fn`: The function that generated the tensor.\n",
    "- `is_leaf`: Whether the tensor is a leaf in the computation graph.\n",
    "\n",
    "<!-- Internal Storage:\n",
    "\n",
    "- `storage()`: The storage of the tensor.\n",
    "- `data_ptr()`: The address of the first element in the tensor.\n",
    "- `stride()`: The number of elements in the storage that have to be skipped over to obtain the elements of a tensor. -->"
   ]
  },
  {
   "cell_type": "markdown",
   "metadata": {},
   "source": [
    "### Basic"
   ]
  },
  {
   "cell_type": "code",
   "execution_count": 4,
   "metadata": {},
   "outputs": [
    {
     "name": "stdout",
     "output_type": "stream",
     "text": [
      "tensor([[1, 1, 1, 1],\n",
      "        [1, 1, 1, 1],\n",
      "        [1, 1, 1, 1]], dtype=torch.int16)\n",
      "tensor([[13.0198, 16.0610,  4.7514,  5.9108],\n",
      "        [ 3.1010, 15.6271, 11.1551, 10.0684],\n",
      "        [18.2956, 19.2786,  8.5177,  0.6904]], dtype=torch.float64)\n",
      "tensor([[13, 16,  4,  5],\n",
      "        [ 3, 15, 11, 10],\n",
      "        [18, 19,  8,  0]], dtype=torch.int32)\n"
     ]
    }
   ],
   "source": [
    "a = torch.ones((3, 4), dtype=torch.int16)\n",
    "print(a)\n",
    "\n",
    "b = torch.rand_like(a, dtype=torch.float64) * 20.\n",
    "print(b)\n",
    "\n",
    "c = b.to(torch.int32)\n",
    "print(c)"
   ]
  },
  {
   "cell_type": "code",
   "execution_count": 5,
   "metadata": {},
   "outputs": [
    {
     "name": "stdout",
     "output_type": "stream",
     "text": [
      "tensor([[ 0.6603, -0.4663,  0.0734,  1.6570],\n",
      "        [-0.6467,  0.9516, -1.3104, -0.3421],\n",
      "        [ 0.7025, -0.1641,  0.8990, -0.0474]])\n",
      "tensor([[-0.6397,  1.0382,  0.0667, -2.1791],\n",
      "        [ 0.8976,  0.3757,  0.1191,  1.6991],\n",
      "        [ 0.8824,  1.0559, -1.8508,  0.4140]])\n",
      "tensor([[ 0.0206,  0.5719,  0.1401, -0.5221],\n",
      "        [ 0.2508,  1.3274, -1.1913,  1.3570],\n",
      "        [ 1.5849,  0.8918, -0.9517,  0.3666]])\n",
      "tensor([[-4.5125,  3.2416,  0.6404],\n",
      "        [ 2.0599, -0.9603,  2.7179],\n",
      "        [-0.4566,  0.5955, -1.2370]])\n"
     ]
    }
   ],
   "source": [
    "a = torch.randn((3, 4))\n",
    "print(a)\n",
    "\n",
    "b = torch.randn((3, 4))\n",
    "print(b)\n",
    "\n",
    "c = a + b\n",
    "print(c)\n",
    "\n",
    "d = a @ b.T\n",
    "print(d)"
   ]
  },
  {
   "cell_type": "markdown",
   "metadata": {},
   "source": [
    "### Operations"
   ]
  },
  {
   "cell_type": "code",
   "execution_count": 6,
   "metadata": {},
   "outputs": [
    {
     "name": "stdout",
     "output_type": "stream",
     "text": [
      "tensor([[1., 1., 1., 1.],\n",
      "        [1., 1., 1., 1.],\n",
      "        [1., 1., 1., 1.]])\n",
      "tensor([[1., 1., 1.],\n",
      "        [1., 1., 1.],\n",
      "        [1., 1., 1.],\n",
      "        [1., 1., 1.]])\n",
      "tensor([[1., 1., 1., 1., 1., 1.],\n",
      "        [1., 1., 1., 1., 1., 1.]])\n",
      "tensor([1., 1., 1., 1., 1., 1., 1., 1., 1., 1., 1., 1.])\n"
     ]
    }
   ],
   "source": [
    "a = torch.ones((3, 4))\n",
    "print(a)\n",
    "\n",
    "b = a.view(4, 3)\n",
    "print(b)\n",
    "\n",
    "c = b.view(2, 6)\n",
    "print(c)\n",
    "\n",
    "d = c.flatten()\n",
    "print(d)"
   ]
  },
  {
   "cell_type": "code",
   "execution_count": 7,
   "metadata": {},
   "outputs": [
    {
     "name": "stdout",
     "output_type": "stream",
     "text": [
      "tensor([[0.1379, 0.1332, 0.8050, 0.1002],\n",
      "        [0.7714, 0.4699, 0.8556, 0.0173],\n",
      "        [0.1460, 0.2148, 0.9696, 0.7340]])\n",
      "tensor([[ 0.5502, -0.4122, -2.0075, -0.4726],\n",
      "        [ 0.9428, -0.1016,  0.2102,  1.4780],\n",
      "        [ 1.0216, -0.1620, -0.5636, -0.1097]])\n",
      "tensor([[-3.2850,  0.8675, -0.6908],\n",
      "        [-2.9902,  1.7699,  0.4557],\n",
      "        [-4.6030,  2.8092, -1.0251]])\n",
      "tensor([[ 1.6880,  0.7210, -0.2025,  0.6277],\n",
      "        [ 2.7142,  1.3682,  2.0658,  2.4953],\n",
      "        [ 2.1677,  1.0528,  1.4060,  1.6244]])\n"
     ]
    }
   ],
   "source": [
    "a = torch.rand(3, 4)\n",
    "print(a)\n",
    "\n",
    "b = torch.randn(3, 4)\n",
    "print(b)\n",
    "\n",
    "c = a @ b.T\n",
    "c *= 2\n",
    "print(c)\n",
    "\n",
    "d = a + b\n",
    "d += 1\n",
    "print(d)"
   ]
  },
  {
   "cell_type": "markdown",
   "metadata": {},
   "source": [
    "### Gradients"
   ]
  },
  {
   "cell_type": "code",
   "execution_count": 8,
   "metadata": {},
   "outputs": [
    {
     "name": "stdout",
     "output_type": "stream",
     "text": [
      "tensor([[-0.8888,     nan,     nan, -0.7540],\n",
      "        [-1.4520, -0.6535,     nan, -1.6488],\n",
      "        [ 0.5249, -0.3976, -0.4797,     nan]], grad_fn=<LogBackward0>)\n",
      "tensor([[1., 1., 1., 1.],\n",
      "        [1., 1., 1., 1.],\n",
      "        [1., 1., 1., 1.]])\n",
      "tensor([[ 0.4112, -1.1335, -0.0548,  0.4705],\n",
      "        [ 0.2341,  0.5202, -0.3102,  0.1923],\n",
      "        [ 1.6903,  0.6719,  0.6189, -0.8087]], grad_fn=<MulBackward0>)\n",
      "tensor([[  2.4321,  -0.8822, -18.2436,   2.1256],\n",
      "        [  4.2718,   1.9223,  -3.2240,   5.2006],\n",
      "        [  0.5916,   1.4883,   1.6156,  -1.2366]])\n",
      "tensor([[ 0.6142, -1.0513,  0.0445,  1.2229],\n",
      "        [-1.2099,  0.6368,  0.5492, -1.3099],\n",
      "        [-1.2149,  1.1593, -1.0119, -1.0712]], requires_grad=True)\n",
      "tensor([[ 1.6280, -0.9512, 22.4809,  0.8177],\n",
      "        [-0.8265,  1.5704,  1.8207, -0.7634],\n",
      "        [-0.8231,  0.8626, -0.9883, -0.9336]])\n",
      "tensor([[ 0.6694,  1.0783, -1.2323,  0.3847],\n",
      "        [-0.1935,  0.8169, -0.5647, -0.1468],\n",
      "        [-1.3913,  0.5796, -0.6117,  0.7549]], requires_grad=True)\n",
      "tensor([[ 1.4939,  0.9274, -0.8115,  2.5994],\n",
      "        [-5.1685,  1.2241, -1.7708, -6.8121],\n",
      "        [-0.7188,  1.7253, -1.6348,  1.3246]])\n"
     ]
    }
   ],
   "source": [
    "x = torch.randn(3, 4, requires_grad=True)\n",
    "y = torch.randn(3, 4, requires_grad=True)\n",
    "\n",
    "v = x * y\n",
    "v.retain_grad()\n",
    "\n",
    "w = v.log()\n",
    "w.retain_grad()\n",
    "w.sum().backward()\n",
    "\n",
    "print(w)\n",
    "print(w.grad)\n",
    "print(v)\n",
    "print(v.grad)\n",
    "\n",
    "print(x)\n",
    "print(x.grad)\n",
    "print(y)\n",
    "print(y.grad)"
   ]
  }
 ],
 "metadata": {
  "kernelspec": {
   "display_name": "base",
   "language": "python",
   "name": "python3"
  },
  "language_info": {
   "codemirror_mode": {
    "name": "ipython",
    "version": 3
   },
   "file_extension": ".py",
   "mimetype": "text/x-python",
   "name": "python",
   "nbconvert_exporter": "python",
   "pygments_lexer": "ipython3",
   "version": "3.10.14"
  }
 },
 "nbformat": 4,
 "nbformat_minor": 2
}
